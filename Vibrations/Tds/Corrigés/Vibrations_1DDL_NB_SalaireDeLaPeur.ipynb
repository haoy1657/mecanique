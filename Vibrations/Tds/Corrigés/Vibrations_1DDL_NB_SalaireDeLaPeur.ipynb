{
 "cells": [
  {
   "cell_type": "markdown",
   "metadata": {},
   "source": [
    "# Le salaire de la peur\n",
    "\n",
    "Dans le film \"le salaire de la peur\" (H.G. Clouzot, 1953), des camions doivent transporter un chargement de nitroglycérine destiné à souffler un puits de pétrole en feu. Le parcours de plusieurs centaines de kilomètres emprunte une piste cabossée qui oblige le convoi à rouler lentement pour éviter les soubresauts qui pourraient provoquer l'explosion du chargement.\n",
    "\n",
    "Le camion est modélisé comme un système à 1 DDL. L'objectif du problème est de dimensionner la suspension (raideur $k$, amortissement $c$) pour assurer la sécurité du convoi. La masse $M$ de la partie suspendue (Moteur + Cabine + Remorque + Chargement) est évaluée à 15 tonnes. Les roues sont supposées rigides et transmettent intégralement les variations de hauteur de la route.\n",
    "\n",
    "![Légende](SalairePeur.png)\n",
    "On note $x$ la variable qui décrit la trajectoire horizontale du convoi. Celle-ci est parcourue à la vitesse $v$. La hauteur variable de la piste est notée $h(x)$. Le déplacement vertical de l'ensemble suspendu du camion, mesuré par rapport à la position statique est noté $z(t)$.\n",
    "\n",
    "1 - Établir l'équation du mouvement de la masse $M$ sous l'effet de l'excitation de la route à partir du principe fondamental de la dynamique.\t"
   ]
  },
  {
   "cell_type": "markdown",
   "metadata": {},
   "source": [
    "Dans le repère lié au véhicule et par rapport à l'altitude 0 de la route, l'excitation provient des variations de la cote $h(z)$ qui provoque la déformation de la suspension.\\\\\n",
    "On peut faire un bilan de forces en écrivant le PFD :  \\\\\n",
    "Inertie de la plateforme : $M\\ddot z$\\\\\n",
    "Force de rappel élastique : $- k(z-h)$\\\\\n",
    "Force d'amortissement visqueux  $-c(\\dot z -\\dot h)$ \\\\ \n",
    "Le bilan donne : \\[M\\ddot z = - k(z-u)-c(\\dot z -\\dot h)\\Leftrightarrow M\\ddot z + c\\dot z + kz= kh + c\\dot h\\]"
   ]
  },
  {
   "cell_type": "markdown",
   "metadata": {},
   "source": [
    "2 - Établir l'équation du mouvement de la masse $M$ par l'équation de Lagrange.\t"
   ]
  },
  {
   "cell_type": "markdown",
   "metadata": {},
   "source": [
    "* Energie cinétique :$\\frac{1}{2}M\\dot z^2$\n",
    "* Energie de déformation : $\\frac{1}{2}k(z-h)^2$\n",
    "* Fonction de dissipation : $\\frac{1}{2}c(\\dot z- \\dot h)^2$\n",
    "* L'équation de Lagrange s'écrit : \\[\\frac{d}{dt}\\frac{\\partial}{\\partial \\dot z}\\frac{1}{2}M\\dot z^2 -\\frac{\\partial}{\\partial z}\\frac{1}{2}k(z-h)^2 + \\frac{\\partial}{\\partial \\dot z} \\frac{1}{2} c(\\dot z- \\dot h)^2= 0\n",
    "\\Leftrightarrow M\\ddot z + k(z-h)+ c(\\dot z- \\dot h) = 0\n",
    "\\Leftrightarrow M\\ddot z + c\\dot z + kz= kh + c\\dot h\\]"
   ]
  },
  {
   "cell_type": "markdown",
   "metadata": {},
   "source": [
    "3 - Mettre l'équation du mouvement sous la forme faisant intervenir les paramètres pulsation propre  $\\omega_0$ et amortissement $\\xi$, dont on donnera les expressions en fonction des paramètres mécaniques"
   ]
  },
  {
   "cell_type": "markdown",
   "metadata": {},
   "source": [
    "On peut écrire l'équation sous la forme générale : \n",
    "\\[\\ddot z +2\\xi\\omega_0 \\dot z + \\omega_0^2z = 2\\xi\\omega_0 \\dot h + \\omega_0^2h \\]\n",
    "avec \\[\\omega_0 = \\sqrt{\\frac{k}{M}} \\hspace{2cm}\\xi = \\frac{c}{2M\\omega_0}\\]"
   ]
  },
  {
   "cell_type": "markdown",
   "metadata": {},
   "source": [
    "4 - Évaluer la raideur $k$ de la suspension qui procure au système une fréquence propre $f_0=12$ Hz.\t"
   ]
  },
  {
   "cell_type": "markdown",
   "metadata": {},
   "source": [
    "La pulsation propre est $\\omega_0 = 2\\pi f_0 = \\sqrt{\\dfrac{k}{M}}$. \n",
    " \n",
    "Donc $k = 4\\pi^2f_0^2M =  4\\pi^2 \\times 12^2 \\times 15.10^3 = 8,5 . 10^7$~N/m."
   ]
  },
  {
   "cell_type": "markdown",
   "metadata": {},
   "source": [
    "5 - On souhaite que le système soit sous-amorti à 10\\% ($\\xi = 0.1$). Quel coefficient d'amortissement $c$ doit avoir la suspension hydraulique ?\t"
   ]
  },
  {
   "cell_type": "markdown",
   "metadata": {},
   "source": [
    "Le facteur d'amortissement est $\\xi= \\dfrac{c}{2M\\omega_0}$, donc $c = 2M\\omega_0\\xi = 2 \\times 15.10^3 \\times 2\\pi \\times 12 \\times 0,1 =  2,3.10^5$~N/(m/s). "
   ]
  },
  {
   "cell_type": "markdown",
   "metadata": {},
   "source": [
    "Un moment fort du film survient lorsque le convoi doit franchir une portion de quelques kilomètres de piste constituée de vaguelettes de terre qui exciteront inévitablement la structure.\n",
    "\n",
    "On peut modéliser ce passage de route, appelé \"tôle ondulée\", par une sinusoïde d'amplitude $A=10$~cm et de longueur d'onde $L=25$ cm (voir schéma). \n",
    "\n",
    "6 - Préciser la relation entre la fréquence de l'excitation du système et la vitesse $V$ du camion.\t"
   ]
  },
  {
   "cell_type": "markdown",
   "metadata": {},
   "source": [
    "Les variations de hauteur de la route en fonction de $x$ s'écrivent :\n",
    "\n",
    "\\begin{equation*}\n",
    " \th(x) = A\\sin\\frac{2\\pi x}{L}.\n",
    "\\end{equation*}\n",
    "\n",
    "On a supposé qu'en $x = 0$, $h(0) = 0$ pour éviter d'introduire un déphasage. La route est parcourue à la vitesse constante $V$. La trajectoire horizontale du camion est donc $x(t) = Vt$ si $x(0) = 0$. Donc les variations de hauteur de la route vues par le chauffeur en fonction du temps s'écrivent :\n",
    "\\begin{equation*}\n",
    "h(t) = A\\sin\\frac{2\\pi V t}{L} = A\\sin 2 \\pi f t =  A\\sin \\Omega t,\n",
    "\\end{equation*}\n",
    "d'où la fréquence d'excitation $f = \\dfrac{V}{L}$."
   ]
  },
  {
   "cell_type": "markdown",
   "metadata": {},
   "source": [
    "7 - Déterminer la forme du mouvement vibratoire vertical $z(t)$ du camion en fonction du temps et préciser l'amplitude du déplacement."
   ]
  },
  {
   "cell_type": "markdown",
   "metadata": {},
   "source": [
    "L'équation du mouvement s'écrit donc: \n",
    "\\begin{eqnarray*}\n",
    "\\ddot z + 2\\xi\\omega_0 \\dot z + \\omega_0^2 z & = &2\\xi\\omega_0 \\dot h+\\omega_0^2 h \\\\\n",
    "\t&=& 2\\xi\\omega_0 \\Omega A\\cos(\\Omega t) + \\omega^2_0A\\sin(\\Omega t)\\\\\n",
    " \t&=& A\\omega_0 ( 2 \\xi \\Omega \\cos(\\Omega t) + \\omega_0 \\sin(\\Omega t))\\\\\n",
    " \t&=& B \\sin(\\Omega t+\\varphi)\n",
    " \\end{eqnarray*}\n",
    " avec \n",
    " $$\n",
    " \\begin{cases} \n",
    " B\\sin\\varphi = A\\omega_0 2\\xi\\Omega\\\\\n",
    " B\\cos\\varphi = A\\omega_0^2\\\\\n",
    " \\end{cases}\n",
    " \\Leftrightarrow\n",
    " \\begin{cases} \n",
    " B = A\\omega_0 \\sqrt{4\\xi^2\\Omega^2 +\\omega_0^2}\\\\\n",
    " \\varphi = \\arctan\\frac{2\\xi\\Omega}{\\omega_0}\n",
    " \\end{cases}\n",
    " $$ "
   ]
  },
  {
   "cell_type": "markdown",
   "metadata": {},
   "source": [
    "Pour résoudre la suite du problème, on passe en notation complexe. \n",
    "On écrit l'équation du mouvement : \n",
    "\n",
    "\\begin{equation*}\n",
    "\t\\ddot z + 2\\xi\\omega_0 \\dot  z + \\omega_0^2 z = B\\sin(\\Omega t+\\varphi) = \\Im \\left[B e^{j(\\Omega t+\\varphi)} \\right].\n",
    "\\end{equation*}\n",
    "\n",
    "La réponse du système est recherchée sous la même forme que l'excitation : \n",
    "$$z(t) = \\Im \\left[\\tilde z(t)\\right]$$ avec $$\\tilde z(t) = Ze^{j(\\Omega t + \\varphi + \\psi)}$$. \n",
    "\n",
    "On a donc en complexe :\n",
    "\n",
    "\\begin{equation*}\n",
    "\t\\ddot{\\tilde z} + 2\\xi\\omega_0 \\dot{\\tilde z} + \\omega_0^2 \\tilde z = Be^{j(\\Omega t+\\varphi)} \n",
    " \t\\Longleftrightarrow \\left(\\omega_0^2 - \\Omega^2 + 2j\\xi\\omega_0\\Omega\\right) Z e^{j(\\varphi+\\psi)} = B\n",
    "\\end{equation*}\n",
    "\n",
    " On a donc\n",
    "\n",
    "\\begin{equation*}\n",
    "\tZ e^{j\\psi} = \\dfrac{B(\\omega_0^2 - \\Omega^2 - 2j\\xi\\omega_0\\Omega)}{(\\omega_0^2 - \\Omega^2)^2 + (2\\xi\\omega_0\\Omega)^2},\n",
    " \\end{equation*}\n",
    "\n",
    "d'où\n",
    "\\begin{equation*}\n",
    "\\begin{cases}\n",
    "Z = \\dfrac{A\\omega_0 \\sqrt{4\\xi^2\\Omega^2 +\\omega_0^2}}{\\sqrt{(\\omega_0^2 - \\Omega^2)^2 + (2\\xi\\omega_0\\Omega)^2}}, \\\\\n",
    "\\psi = - \\arctan\\left(\\dfrac{2\\xi\\omega_0\\Omega}{\\omega_0^2 - \\Omega^2}\\right).\n",
    "\\end{cases}\n",
    "\\end{equation*}"
   ]
  },
  {
   "cell_type": "markdown",
   "metadata": {},
   "source": [
    "8 - Tracer l'évolution de l'amplitude du déplacement en fonction de la fréquence $f=\\Omega/2\\pi$."
   ]
  },
  {
   "cell_type": "code",
   "execution_count": 1,
   "metadata": {},
   "outputs": [
    {
     "data": {
      "application/vnd.jupyter.widget-view+json": {
       "model_id": "4c997eb7bd4a455bbcad1067f2ea5bef",
       "version_major": 2,
       "version_minor": 0
      },
      "text/plain": [
       "interactive(children=(Checkbox(value=False, description='f2v'), Checkbox(value=False, description='logy'), Out…"
      ]
     },
     "metadata": {},
     "output_type": "display_data"
    },
    {
     "data": {
      "text/plain": [
       "<function __main__.PlotRep(f2v, logy)>"
      ]
     },
     "execution_count": 1,
     "metadata": {},
     "output_type": "execute_result"
    }
   ],
   "source": [
    "%matplotlib inline\n",
    "import numpy as np\n",
    "import matplotlib.pyplot as plt\n",
    "from ipywidgets import interact, interactive, fixed, interact_manual\n",
    "import ipywidgets as widgets\n",
    "\n",
    "f0 = 12 # Fréquence propre (Hz)\n",
    "w0 = 2*np.pi*f0# % Pulsation propre\n",
    "\n",
    "xi = 0.1 #Coefficient d'amortissement\n",
    "\n",
    "f = np.arange(0,50,0.1); #Bande de fréquence d'étude\n",
    "W = 2*np.pi*f #\n",
    "\n",
    "A = 0.1 #Amplitude(m) des variations de hauteur de la route\n",
    "L = 0.25 #Longueur d'onde des variations de hauteur de la route\n",
    "V = f*L/1000*3600 #Vitesse associée à la fréquence (km/h)\n",
    "\n",
    "#Calcul de la réponse\n",
    "Num = A * w0 * np.sqrt(4 * xi**2 * W**2 + w0**2)\n",
    "Den = np.sqrt((w0**2 - W**2)**2 + 4 * xi**2 * W**2 * w0**2);\n",
    "\n",
    "Z = Num/Den;\n",
    "\n",
    "#Tracé de la réponse en fonction de la fréquence ou de la vitesse\n",
    "def PlotRep(f2v, logy):\n",
    "    plt.figure(figsize = (15,5))\n",
    "    if f2v : \n",
    "        plt.plot(V,Z)\n",
    "        plt.xlabel('Vitesse (km/h)')        \n",
    "    else :   \n",
    "        plt.plot(f,Z)\n",
    "        plt.xlabel('Fréquence (Hz)')\n",
    "    if logy : \n",
    "        plt.yscale('log')\n",
    "    plt.grid(b=True, which='major',  linestyle='-')\n",
    "    plt.grid(b=True, which='minor',  linestyle='--')\n",
    "    plt.ylabel('Amplitude du déplacement (m)')\n",
    "    plt.autoscale(axis = 'x', tight = True)\n",
    "    \n",
    "interact(PlotRep, f2v = False, logy = False)"
   ]
  },
  {
   "cell_type": "markdown",
   "metadata": {},
   "source": [
    "9 - Quelle allure est la mieux adaptée au franchissement de cette zone de \"tôle ondulée\"? Justifier le meilleur choix."
   ]
  },
  {
   "cell_type": "markdown",
   "metadata": {},
   "source": [
    "La suspension est un filtre passe bas.\n",
    "Avant la résonance, c'est-à-dire pour les basses fréquences et donc les basses vitesses, l'amplitude des ondulations de la route sera presque intégralement transmise. Ce qui est trop fort.\n",
    "* Autour de la résonance elle sera fortement amplifiée, ce qui est encore pire\n",
    "* Après la résonance, au contraire, l'amortisseur absorbe les ondulations. \n",
    "\n",
    "Il faut donc adopter une vitesse correspondant à une fréquence bien supérieure à la fréquence propre."
   ]
  },
  {
   "cell_type": "markdown",
   "metadata": {},
   "source": [
    "10 - À quelle vitesse minimale le camion doit-il rouler pour que l'amplitude vibratoire du camion soit inférieure à 1 cm ?\t"
   ]
  },
  {
   "cell_type": "markdown",
   "metadata": {},
   "source": [
    "La fréquence correspondant à une amplitude de 1 cm est $f = 44$ Hz. \n",
    "\n",
    "Il faut rouler à une vitesse minimum $V = fL$ = 11 m/s = 39,6 km/h."
   ]
  }
 ],
 "metadata": {
  "interpreter": {
   "hash": "be3ab7ff609ea519cb9a80e56eea695c196bd724e6954308548712fab15494c6"
  },
  "kernelspec": {
   "display_name": "Python 3.9.7 64-bit (windows store)",
   "name": "python3"
  },
  "language_info": {
   "codemirror_mode": {
    "name": "ipython",
    "version": 3
   },
   "file_extension": ".py",
   "mimetype": "text/x-python",
   "name": "python",
   "nbconvert_exporter": "python",
   "pygments_lexer": "ipython3",
   "version": "3.9.7"
  },
  "latex_envs": {
   "LaTeX_envs_menu_present": true,
   "autoclose": false,
   "autocomplete": true,
   "bibliofile": "biblio.bib",
   "cite_by": "apalike",
   "current_citInitial": 1,
   "eqLabelWithNumbers": true,
   "eqNumInitial": 1,
   "hotkeys": {
    "equation": "Ctrl-E",
    "itemize": "Ctrl-I"
   },
   "labels_anchors": false,
   "latex_user_defs": false,
   "report_style_numbering": false,
   "user_envs_cfg": false
  },
  "varInspector": {
   "cols": {
    "lenName": 16,
    "lenType": 16,
    "lenVar": 40
   },
   "kernels_config": {
    "python": {
     "delete_cmd_postfix": "",
     "delete_cmd_prefix": "del ",
     "library": "var_list.py",
     "varRefreshCmd": "print(var_dic_list())"
    },
    "r": {
     "delete_cmd_postfix": ") ",
     "delete_cmd_prefix": "rm(",
     "library": "var_list.r",
     "varRefreshCmd": "cat(var_dic_list()) "
    }
   },
   "types_to_exclude": [
    "module",
    "function",
    "builtin_function_or_method",
    "instance",
    "_Feature"
   ],
   "window_display": false
  }
 },
 "nbformat": 4,
 "nbformat_minor": 2
}
